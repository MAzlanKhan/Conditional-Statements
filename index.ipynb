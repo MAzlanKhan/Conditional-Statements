{
 "cells": [
  {
   "cell_type": "markdown",
   "metadata": {},
   "source": [
    "Question 1: Ticket Pricing System"
   ]
  },
  {
   "cell_type": "code",
   "execution_count": 8,
   "metadata": {},
   "outputs": [
    {
     "name": "stdout",
     "output_type": "stream",
     "text": [
      "Price of Ticket is $10\n"
     ]
    }
   ],
   "source": [
    "age= int(input(\"Enter your Age: \"))\n",
    "\n",
    "if (age<5):\n",
    "    print(\"Ticket is Free for Child\")\n",
    "elif (age >= 5 and age <= 17):\n",
    "    print(\"Price of Ticket is $10\")\n",
    "elif(age >= 18 and age <= 60):\n",
    "    print(\"Price of ticket is $20\")\n",
    "else:\n",
    "    print(\"Price of Ticket is $15\")"
   ]
  },
  {
   "cell_type": "markdown",
   "metadata": {},
   "source": [
    "Question 2: Meal Recommendation"
   ]
  },
  {
   "cell_type": "code",
   "execution_count": 18,
   "metadata": {},
   "outputs": [
    {
     "name": "stdout",
     "output_type": "stream",
     "text": [
      "Breakfast\n"
     ]
    }
   ],
   "source": [
    "time = int(input(\"What time it is in 24-hour format: \"))\n",
    "\n",
    "if(time>=5 and time<=11):\n",
    "    print(\"Breakfast\")\n",
    "elif(time>=12 and time<=16):\n",
    "    print(\"Lunch\")\n",
    "elif(time>=17 and time<=21):\n",
    "    print(\"Dinner\")\n",
    "else:\n",
    "    print(\"Late Night Snacks\")"
   ]
  },
  {
   "cell_type": "markdown",
   "metadata": {},
   "source": [
    "Question 3: Grocery Bill Calculator"
   ]
  },
  {
   "cell_type": "code",
   "execution_count": 27,
   "metadata": {},
   "outputs": [
    {
     "name": "stdout",
     "output_type": "stream",
     "text": [
      "The total bill is: 150.0\n",
      "You Got a Discount of 10%.\n",
      "You have to pay only 135.0\n"
     ]
    }
   ],
   "source": [
    "# Taking input\n",
    "item1 = float(input(\"Enter the price of item 1: \"))\n",
    "item2 = float(input(\"Enter the price of item 2: \"))\n",
    "item3 = float(input(\"Enter the price of item 3: \"))\n",
    "item4 = float(input(\"Enter the price of item 4: \"))\n",
    "item5 = float(input(\"Enter the price of item 5: \"))\n",
    "\n",
    "# total bill\n",
    "total_bill = item1 + item2 + item3 + item4 + item5\n",
    "print(f\"The total bill is: {total_bill}\")\n",
    "\n",
    "if(total_bill > 100):\n",
    "    discount = total_bill * 0.90 \n",
    "    print(f\"You Got a Discount of 10%.\\nYou have to pay only {discount}\")\n",
    "else:\n",
    "    print(\"No Discount\")"
   ]
  },
  {
   "cell_type": "markdown",
   "metadata": {},
   "source": [
    "Question 4: Username Validator"
   ]
  },
  {
   "cell_type": "code",
   "execution_count": 30,
   "metadata": {},
   "outputs": [
    {
     "name": "stdout",
     "output_type": "stream",
     "text": [
      "The Username is Valid!\n"
     ]
    }
   ],
   "source": [
    "username = input(\"Enter your Username: \")\n",
    "\n",
    "if len(username)>5 and len(username)<= 15:\n",
    "    print(\"The Username is Valid!\")\n",
    "else:\n",
    "    print(\"The username is Invalid!\")"
   ]
  },
  {
   "cell_type": "markdown",
   "metadata": {},
   "source": [
    "Question 5: Travel Destination Suggestion"
   ]
  },
  {
   "cell_type": "code",
   "execution_count": 32,
   "metadata": {},
   "outputs": [
    {
     "name": "stdout",
     "output_type": "stream",
     "text": [
      "Visit a cozy mountain lodge!\n"
     ]
    }
   ],
   "source": [
    "weather = input(\"Enter your Weather (Sunny, Rainy, or Snowy) : \")\n",
    "\n",
    "if weather.lower() == \"sunny\":\n",
    "    print(\"Go to the beach!\")\n",
    "elif weather.lower() == \"rainy\":\n",
    "    print(\"Visit a cozy mountain lodge!\")\n",
    "elif weather.lower() == \"snowy\":\n",
    "    print(\"Time for a ski trip!\")\n",
    "else:\n",
    "    print(\"Invalid Weather\")\n"
   ]
  },
  {
   "cell_type": "markdown",
   "metadata": {},
   "source": [
    "Question 6: Discount Eligibility Checker"
   ]
  },
  {
   "cell_type": "code",
   "execution_count": 39,
   "metadata": {},
   "outputs": [
    {
     "name": "stdout",
     "output_type": "stream",
     "text": [
      "No Discount Available!. You should pay full amount 190\n"
     ]
    }
   ],
   "source": [
    "spending = int(input(\"Enter the total amount you Spend: \"))\n",
    "\n",
    "if spending > 200:\n",
    "    print(\"Eligible for the discount.\")\n",
    "    discount= spending * 0.85\n",
    "    print(f\"You have to pay only {discount}. Thanks!\")\n",
    "else:\n",
    "    program_member = input(\"Are you the loyalty program member (Yes/No): \")\n",
    "    if program_member.lower() == \"yes\":\n",
    "        print(f\"Eligible for the discount.\\nYou have to pay only {discount}. Thanks!\")\n",
    "    else:\n",
    "        print(f\"No Discount Available!. You should pay full amount {spending}\")"
   ]
  },
  {
   "cell_type": "markdown",
   "metadata": {},
   "source": [
    "Question 7: Event Invitation"
   ]
  },
  {
   "cell_type": "code",
   "execution_count": 55,
   "metadata": {},
   "outputs": [
    {
     "name": "stdout",
     "output_type": "stream",
     "text": [
      "['azlan khan', 'furqan', 'adil', 'hamza', 'moiz']\n",
      "furqan is Invited in Event\n"
     ]
    }
   ],
   "source": [
    "guests = input(\"Give a list of 5 guests who are invited to the event separated by comma: \")\n",
    "guests_list = [guests.strip().lower() for guests in guests.split(\",\")]\n",
    "print(guests_list)\n",
    "\n",
    "guests_invited = input(\"Enter the Guest name: \").strip().lower()\n",
    "if guests_invited in guests_list:\n",
    "    print(f\"{guests_invited} is Invited in Event\")\n",
    "else:\n",
    "    print(f\"{guests_invited} is not Invited in Event\")"
   ]
  },
  {
   "cell_type": "markdown",
   "metadata": {},
   "source": [
    "Question 8: Movie Streaming Eligibility"
   ]
  },
  {
   "cell_type": "code",
   "execution_count": 70,
   "metadata": {},
   "outputs": [
    {
     "name": "stdout",
     "output_type": "stream",
     "text": [
      "You can watch Documentaries. You can also watch Animated Movies. Because it can be watched by users of any age.\n"
     ]
    }
   ],
   "source": [
    "users_aged =int(input(\"Enter your age: \"))\n",
    "movie = input(\"What type of movie you want to watch ('Action Movie', 'Animated Movie', 'Documentarie'): \").lower()\n",
    "\n",
    "if movie == 'documentaries':\n",
    "    if users_aged >= 12:\n",
    "        print(\"You can watch Documentaries. You can also watch Animated Movies. Because it can be watched by users of any age.\")\n",
    "    else:\n",
    "        print(\"You cannot watch Documentaries. You must be 12 or older.\")\n",
    "\n",
    "elif movie == 'action movie':\n",
    "    if users_aged >= 18:\n",
    "        print(\"You can watch Action Movies. You can also watch Animated Movies. Because it can be watched by users of any age.\")\n",
    "    else:\n",
    "        print(\"You cannot watch Action Movies. You must be 18 or older.\")\n",
    "\n",
    "elif movie == 'animated movie':\n",
    "        print(\"You can watch Animated Movies. Because it can be watched by users of any age.\")\n",
    "\n",
    "else:\n",
    "    print(\"You can watch Animated Movies. Because it can be watched by users of any age.\")    "
   ]
  },
  {
   "cell_type": "markdown",
   "metadata": {},
   "source": [
    "Question 9: Phone Number Formatter"
   ]
  },
  {
   "cell_type": "code",
   "execution_count": null,
   "metadata": {},
   "outputs": [
    {
     "name": "stdout",
     "output_type": "stream",
     "text": [
      "(123) 456-7890\n"
     ]
    }
   ],
   "source": [
    "phoneNum = input(\"Enter a Phone Number: \")\n",
    "\n",
    "print(f\"({phoneNum[0:3]}) {phoneNum[3:6]}-{phoneNum[6:10]}\")"
   ]
  },
  {
   "cell_type": "markdown",
   "metadata": {},
   "source": [
    "Question 10: Package Shipping Cost"
   ]
  },
  {
   "cell_type": "code",
   "execution_count": 11,
   "metadata": {},
   "outputs": [
    {
     "name": "stdout",
     "output_type": "stream",
     "text": [
      "The cose is $10\n"
     ]
    }
   ],
   "source": [
    "weight = int(input(\"Enter the Weight in Kg's: \"))\n",
    "\n",
    "if weight <= 1:\n",
    "    print(\"Shipping cost is $5\")\n",
    "elif weight > 1 and weight <= 5:\n",
    "    print(\"The cose is $10\")\n",
    "elif weight > 5 and weight <= 20:\n",
    "    print(\"The cost is $20\")\n",
    "else:\n",
    "    print(\"The cost is $50\")\n",
    "      \n"
   ]
  },
  {
   "cell_type": "markdown",
   "metadata": {},
   "source": [
    "Question 11: Student Grading System"
   ]
  },
  {
   "cell_type": "code",
   "execution_count": 14,
   "metadata": {},
   "outputs": [
    {
     "name": "stdout",
     "output_type": "stream",
     "text": [
      "You Got A Grade\n",
      "You are Pass!\n",
      "Your Total percentage is 415.8\n"
     ]
    }
   ],
   "source": [
    "english = float(input(\"Enter your Marks out of 100 in english : \"))\n",
    "urdu = float(input(\"Enter your Marks out of 100 in urdu : \"))\n",
    "maths = float(input(\"Enter your Marks out of 100 in maths : \"))\n",
    "statistics = float(input(\"Enter your Marks out of 100 in statistics : \"))\n",
    "computer = float(input(\"Enter your Marks out of 100 in computer: \"))\n",
    "totalMarks = english + urdu + maths + statistics + computer\n",
    "totalPercentage = english + urdu + maths + statistics + computer / 500 * 100\n",
    "\n",
    "if totalPercentage >= 90:\n",
    "    print(\"You Got A Grade\")\n",
    "elif totalPercentage >=80 and totalPercentage <= 89:\n",
    "    print(\"You Got B Grade\")\n",
    "elif totalPercentage >= 70 and totalPercentage <= 79:\n",
    "    print(\"You Got C Grade\")\n",
    "elif totalPercentage >= 69 and totalPercentage <= 60:\n",
    "    print(\"You Got D Grade\")\n",
    "else:\n",
    "    print(\"You Got F Grade\")\n",
    "\n",
    "if totalPercentage >= 60:\n",
    "    print(\"You are Pass!\")\n",
    "else:\n",
    "    print(\"You are Fail!\")\n",
    "\n",
    "print(f\"Your Total Marks are {totalMarks} and Your Total percentage is {totalPercentage}\")\n",
    "\n"
   ]
  }
 ],
 "metadata": {
  "kernelspec": {
   "display_name": "Python 3",
   "language": "python",
   "name": "python3"
  },
  "language_info": {
   "codemirror_mode": {
    "name": "ipython",
    "version": 3
   },
   "file_extension": ".py",
   "mimetype": "text/x-python",
   "name": "python",
   "nbconvert_exporter": "python",
   "pygments_lexer": "ipython3",
   "version": "3.13.1"
  }
 },
 "nbformat": 4,
 "nbformat_minor": 2
}
